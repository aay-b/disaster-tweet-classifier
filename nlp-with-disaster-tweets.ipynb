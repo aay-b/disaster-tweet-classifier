{
 "cells": [
  {
   "cell_type": "code",
   "id": "initial_id",
   "metadata": {
    "collapsed": true,
    "ExecuteTime": {
     "end_time": "2025-08-04T07:13:17.043063Z",
     "start_time": "2025-08-04T07:13:16.450357Z"
    }
   },
   "source": [
    "# Import Libraries\n",
    "import pandas as pd"
   ],
   "outputs": [],
   "execution_count": 1
  },
  {
   "metadata": {
    "ExecuteTime": {
     "end_time": "2025-08-04T07:13:19.234947Z",
     "start_time": "2025-08-04T07:13:19.183911Z"
    }
   },
   "cell_type": "code",
   "source": [
    "# Load data\n",
    "train_df = pd.read_csv('/Users/Aayush/Desktop/kaggle_codes/datasets/nlp-getting-started/train.csv')\n",
    "test_df = pd.read_csv('/Users/Aayush/Desktop/kaggle_codes/datasets/nlp-getting-started/test.csv')\n"
   ],
   "id": "8780b53214371ef1",
   "outputs": [],
   "execution_count": 2
  },
  {
   "metadata": {
    "ExecuteTime": {
     "end_time": "2025-08-04T07:13:24.387254Z",
     "start_time": "2025-08-04T07:13:24.366866Z"
    }
   },
   "cell_type": "code",
   "source": [
    "# See the structure\n",
    "train_df.head()"
   ],
   "id": "c93444c25df1b71b",
   "outputs": [
    {
     "data": {
      "text/plain": [
       "   id keyword location                                               text  \\\n",
       "0   1     NaN      NaN  Our Deeds are the Reason of this #earthquake M...   \n",
       "1   4     NaN      NaN             Forest fire near La Ronge Sask. Canada   \n",
       "2   5     NaN      NaN  All residents asked to 'shelter in place' are ...   \n",
       "3   6     NaN      NaN  13,000 people receive #wildfires evacuation or...   \n",
       "4   7     NaN      NaN  Just got sent this photo from Ruby #Alaska as ...   \n",
       "\n",
       "   target  \n",
       "0       1  \n",
       "1       1  \n",
       "2       1  \n",
       "3       1  \n",
       "4       1  "
      ],
      "text/html": [
       "<div>\n",
       "<style scoped>\n",
       "    .dataframe tbody tr th:only-of-type {\n",
       "        vertical-align: middle;\n",
       "    }\n",
       "\n",
       "    .dataframe tbody tr th {\n",
       "        vertical-align: top;\n",
       "    }\n",
       "\n",
       "    .dataframe thead th {\n",
       "        text-align: right;\n",
       "    }\n",
       "</style>\n",
       "<table border=\"1\" class=\"dataframe\">\n",
       "  <thead>\n",
       "    <tr style=\"text-align: right;\">\n",
       "      <th></th>\n",
       "      <th>id</th>\n",
       "      <th>keyword</th>\n",
       "      <th>location</th>\n",
       "      <th>text</th>\n",
       "      <th>target</th>\n",
       "    </tr>\n",
       "  </thead>\n",
       "  <tbody>\n",
       "    <tr>\n",
       "      <th>0</th>\n",
       "      <td>1</td>\n",
       "      <td>NaN</td>\n",
       "      <td>NaN</td>\n",
       "      <td>Our Deeds are the Reason of this #earthquake M...</td>\n",
       "      <td>1</td>\n",
       "    </tr>\n",
       "    <tr>\n",
       "      <th>1</th>\n",
       "      <td>4</td>\n",
       "      <td>NaN</td>\n",
       "      <td>NaN</td>\n",
       "      <td>Forest fire near La Ronge Sask. Canada</td>\n",
       "      <td>1</td>\n",
       "    </tr>\n",
       "    <tr>\n",
       "      <th>2</th>\n",
       "      <td>5</td>\n",
       "      <td>NaN</td>\n",
       "      <td>NaN</td>\n",
       "      <td>All residents asked to 'shelter in place' are ...</td>\n",
       "      <td>1</td>\n",
       "    </tr>\n",
       "    <tr>\n",
       "      <th>3</th>\n",
       "      <td>6</td>\n",
       "      <td>NaN</td>\n",
       "      <td>NaN</td>\n",
       "      <td>13,000 people receive #wildfires evacuation or...</td>\n",
       "      <td>1</td>\n",
       "    </tr>\n",
       "    <tr>\n",
       "      <th>4</th>\n",
       "      <td>7</td>\n",
       "      <td>NaN</td>\n",
       "      <td>NaN</td>\n",
       "      <td>Just got sent this photo from Ruby #Alaska as ...</td>\n",
       "      <td>1</td>\n",
       "    </tr>\n",
       "  </tbody>\n",
       "</table>\n",
       "</div>"
      ]
     },
     "execution_count": 3,
     "metadata": {},
     "output_type": "execute_result"
    }
   ],
   "execution_count": 3
  },
  {
   "metadata": {
    "ExecuteTime": {
     "end_time": "2025-08-04T07:13:26.236946Z",
     "start_time": "2025-08-04T07:13:25.413724Z"
    }
   },
   "cell_type": "code",
   "source": [
    "# Class distribution\n",
    "train_df['target'].value_counts().plot(kind='bar', title='Class Balance')\n",
    "# this line basically accesses the 'target' column. Then counts how many 0s and 1s there are in  the column and then plots the count as a bar chart."
   ],
   "id": "f8b975e26d96742f",
   "outputs": [
    {
     "data": {
      "text/plain": [
       "<Axes: title={'center': 'Class Balance'}, xlabel='target'>"
      ]
     },
     "execution_count": 4,
     "metadata": {},
     "output_type": "execute_result"
    },
    {
     "data": {
      "text/plain": [
       "<Figure size 640x480 with 1 Axes>"
      ],
      "image/png": "[encoded data removed]"
     },
     "metadata": {},
     "output_type": "display_data"
    }
   ],
   "execution_count": 4
  },
  {
   "metadata": {
    "ExecuteTime": {
     "end_time": "2025-08-04T07:13:28.006140Z",
     "start_time": "2025-08-04T07:13:27.711488Z"
    }
   },
   "cell_type": "code",
   "source": [
    "# Length of tweets\n",
    "train_df['text_len'] = train_df['text'].apply(len) # this adds a new column 'text_len' to 'train_df' where each value is the character length of the tweet\n",
    "test_df['text_len'] = test_df['text'].apply(len) # same as above for the test set this time\n",
    "train_df['text_len'].plot(kind='hist', bins=30, title='Tweet Lengths') # Plots a histogram of tweet lengths in the training set and 'bins=30' splits the range into 30 intervals\n",
    "\n",
    "# -------------------\n",
    "\n",
    "# this block of code helps us understand the text distribution. We may spot very long tweets or very short tweets. This justifies those using 'text_len' as a feature."
   ],
   "id": "e8b0bf18f504bd18",
   "outputs": [
    {
     "data": {
      "text/plain": [
       "<Axes: title={'center': 'Tweet Lengths'}, ylabel='Frequency'>"
      ]
     },
     "execution_count": 5,
     "metadata": {},
     "output_type": "execute_result"
    },
    {
     "data": {
      "text/plain": [
       "<Figure size 640x480 with 1 Axes>"
      ],
      "image/png": "[encoded data removed]"
     },
     "metadata": {},
     "output_type": "display_data"
    }
   ],
   "execution_count": 5
  },
  {
   "metadata": {
    "ExecuteTime": {
     "end_time": "2025-08-04T07:13:29.237666Z",
     "start_time": "2025-08-04T07:13:29.054313Z"
    }
   },
   "cell_type": "code",
   "source": [
    "import re\n",
    "import string\n",
    "from urllib.parse import urlparse\n",
    "def cleanText(text):\n",
    "    text = text.lower()\n",
    "    # Extract URLs (used later for domain extraction)\n",
    "    urls = re.findall(r'https?:\\/\\/\\S+', text)\n",
    "    # re.sub is used to perform substitution using regex\n",
    "    text = re.sub(r'@[A-Za-z0-9]+','',text) # removes any '@mentions' in text, basically replace any @mentions with '' - empty string\n",
    "    text = re.sub(r'#','',text) # the same thing - replace the '#' symbol with '' - empty string, but do not remove the text after the '#' as it could be important in the classification\n",
    "    text = re.sub(r'RT[\\s]+','',text) # this removes the 'RT' tag from the beginning of tweets. 'RT' means the tag is a retweet. This is not important for us, and hence removing it keeps the data clean.\n",
    "    text = re.sub(r'https?:\\/\\/\\S+', '', text)  # same thing as above. This removes URLs from a text\n",
    "    text = re.sub(r'[^a-z0-9\\s]', '', text)  # \\s = space\n",
    "    return text\n",
    "\n",
    "# this function below extracts the domain name from any url in the tweet\n",
    "def extractDomain(text):\n",
    "    urls = re.findall(r'https?:\\/\\/\\S+', text) # this line uses a regular expression to find all the urls in the text\n",
    "    # https? -> matches http or https\n",
    "    # :\\/\\/ -> matches ://\n",
    "    # \\S+ -> matches the rest of the URL -> all non-space characters\n",
    "    # ----------------\n",
    "    domains = [urlparse(url).netloc for url in urls] # this line loops through each URL\n",
    "    # urlparse(url) -> breaks each URL into parts -> domain, protocol, path, etc.\n",
    "    # netloc -> extracts the domain name from each URL\n",
    "\n",
    "    return domains[0] if domains else None # if the list 'domains' has at least one domain, then that domain is returned; otherwise 'None' is returned\n",
    "\n",
    "# ------------------------------------------------------------\n",
    "\n",
    "# the 'extractDomain' function is an important function for some self-explanatory reasons:\n",
    "## 1. Many disaster-related tweets link to news or gov sites\n",
    "## 2. So the domain name is definitely going to be a predictive feature\n",
    "## 3. And hence this helps our model differentiate b/w real vs. fake disasters\n",
    "\n",
    "# ------------------------------------------------------------\n",
    "\n",
    "# clean text\n",
    "train_df['clean_text'] = train_df['text'].apply(cleanText)\n",
    "test_df['clean_text'] = test_df['text'].apply(cleanText)\n",
    "# Extract domain feature\n",
    "train_df['domain'] = train_df['text'].apply(extractDomain)\n",
    "test_df['domain'] = test_df['text'].apply(extractDomain)"
   ],
   "id": "f4e408b736d634c9",
   "outputs": [],
   "execution_count": 6
  },
  {
   "metadata": {
    "ExecuteTime": {
     "end_time": "2025-08-04T07:13:31.351568Z",
     "start_time": "2025-08-04T07:13:30.192263Z"
    }
   },
   "cell_type": "code",
   "source": [
    "# this block of code is doing categorical encoding for our 'domain' feature so that our ML model can understand it\n",
    "\n",
    "from sklearn.preprocessing import LabelEncoder # LabelEncoder -> turns text categories into numbers\n",
    "# Handle missing values and encode\n",
    "le = LabelEncoder() # -> an instance of LabelEncoder called 'le' is created\n",
    "\n",
    "train_df['domain_encoded'] = le.fit_transform(train_df['domain'].fillna('none'))\n",
    "# .fillna -> replaces missing domain values with the string 'none'\n",
    "# le.fit_transform -> Fits the encoder to the unique domain strings in training data, then transforms those strings into numeric labels and then stores the result in a new column: domain_encoded\n",
    "\n",
    "test_df['domain_encoded'] = le.transform(test_df['domain'].fillna('none'))\n",
    "# This above line only transforms the test data using the same label mapping from training data\n",
    "# Doesn't call .fit() again -> keeps mappings consistent\n",
    "# This prevents data leakage and ensures the model sees known labels as the same numbers during inference\n",
    "\n",
    "# ---------------------------------------\n",
    "\n",
    "# Why use Label Encoding?\n",
    "## 1. ML models like LogisticRegression, SVM, etc. don’t accept strings\n",
    "## 2. Encoding converts domain from a text feature into a numerical feature\n",
    "## 3. You can now combine it with TF-IDF or other features in your model\n",
    "\n",
    "# ---------------------------------------"
   ],
   "id": "7c57e941acc66f65",
   "outputs": [],
   "execution_count": 7
  },
  {
   "metadata": {
    "ExecuteTime": {
     "end_time": "2025-08-04T07:13:32.706493Z",
     "start_time": "2025-08-04T07:13:32.169331Z"
    }
   },
   "cell_type": "code",
   "source": [
    "from sklearn.feature_extraction.text import TfidfVectorizer\n",
    "# TfidfVectorizer -> Converts text into numerical features using TF-IDF (Term Frequency - Inverse Document Frequency).\n",
    "import scipy\n",
    "# scipy -> Used for working with sparse matrices; especially to stack features.\n",
    "\n",
    "tfidf = TfidfVectorizer(ngram_range=(1, 2), max_features=10000, stop_words='english')\n",
    "# This line above creates a TF-IDF vectorizer and:\n",
    "#             1. includes unigrams (1-word sequences) and bigrams (2-word sequences)\n",
    "#             2. limits vocabulary size to 10,000 most frequent terms\n",
    "#             3. removes common English words like “the,” “is,” etc.\n",
    "# Unigrams capture individual word importance (good for bag-of-words or TF-IDF).\n",
    "# Bigrams add context — useful for capturing phrases, negations, or multi-word expressions.\n",
    "X_train = tfidf.fit_transform(train_df['clean_text'])\n",
    "X_test = tfidf.transform(test_df['clean_text'])\n",
    "# .fit_transform learns vocabulary from a training set and transforms it into sparse TF-IDF vectors.\n",
    "# .transform applies the same transformation (with the same vocabulary) to the test set.\n",
    "\n",
    "# Convert domain_encoded column to 2D arrays\n",
    "domain_train = train_df[['domain_encoded']].values\n",
    "domain_test = test_df[['domain_encoded']].values\n",
    "\n",
    "# Convert to column arrays\n",
    "text_len_train = train_df[['text_len']].values\n",
    "text_len_test = test_df[['text_len']].values\n",
    "\n",
    "\n",
    "# Horizontally stack with TF-IDF matrices\n",
    "X_train_combined = scipy.sparse.hstack((X_train, domain_train, text_len_train))\n",
    "X_test_combined = scipy.sparse.hstack((X_test, domain_test, text_len_test))\n",
    "# hstack() creates a combined sparse matrix with shape [n_samples, num_features + 2]\n",
    "\n",
    "# Extracts the target labels\n",
    "y_train = train_df['target']"
   ],
   "id": "adca123228c94f7a",
   "outputs": [],
   "execution_count": 8
  },
  {
   "metadata": {
    "ExecuteTime": {
     "end_time": "2025-08-04T07:13:34.263563Z",
     "start_time": "2025-08-04T07:13:33.267850Z"
    }
   },
   "cell_type": "code",
   "source": [
    "from sklearn.linear_model import LogisticRegression\n",
    "# LogisticRegression -> A linear model for binary (or multi-class) classification.\n",
    "from sklearn.metrics import classification_report\n",
    "# classification_report -> Gives detailed performance metrics like precision, recall, and F1-score for each class.\n",
    "\n",
    "model = LogisticRegression(max_iter=200) # Creates an instance of Logistic Regression.\n",
    "# max_iter=200 -> Increases the number of training iterations (default is 100) — useful when your data is high-dimensional (like with TF-IDF).\n",
    "\n",
    "# Fits (trains) the model using your combined training features and labels.\n",
    "model.fit(X_train_combined, y_train)\n",
    "\n",
    "# Optional: Evaluate on training data\n",
    "y_pred = model.predict(X_train_combined)\n",
    "print(classification_report(y_train, y_pred))\n",
    "\n"
   ],
   "id": "ba6845f12bbce44",
   "outputs": [
    {
     "name": "stdout",
     "output_type": "stream",
     "text": [
      "              precision    recall  f1-score   support\n",
      "\n",
      "           0       0.85      0.95      0.90      4342\n",
      "           1       0.93      0.78      0.84      3271\n",
      "\n",
      "    accuracy                           0.88      7613\n",
      "   macro avg       0.89      0.86      0.87      7613\n",
      "weighted avg       0.88      0.88      0.88      7613\n",
      "\n"
     ]
    }
   ],
   "execution_count": 9
  },
  {
   "metadata": {
    "ExecuteTime": {
     "end_time": "2025-08-04T07:13:35.391440Z",
     "start_time": "2025-08-04T07:13:35.377810Z"
    }
   },
   "cell_type": "code",
   "source": [
    "# Predict on a test set\n",
    "test_preds = model.predict(X_test_combined)\n",
    "\n",
    "# Create submission\n",
    "submission = pd.DataFrame({\n",
    "    'id': test_df['id'],\n",
    "    'target': test_preds\n",
    "})\n",
    "\n",
    "submission.to_csv('submission.csv', index=False)\n"
   ],
   "id": "18935e95dbf412a6",
   "outputs": [],
   "execution_count": 10
  }
 ],
 "metadata": {
  "kernelspec": {
   "display_name": "Python 3",
   "language": "python",
   "name": "python3"
  },
  "language_info": {
   "codemirror_mode": {
    "name": "ipython",
    "version": 2
   },
   "file_extension": ".py",
   "mimetype": "text/x-python",
   "name": "python",
   "nbconvert_exporter": "python",
   "pygments_lexer": "ipython2",
   "version": "2.7.6"
  }
 },
 "nbformat": 4,
 "nbformat_minor": 5
}
